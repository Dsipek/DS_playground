{
 "cells": [
  {
   "cell_type": "code",
   "execution_count": 2,
   "id": "07e2db36-3a4a-4713-b04c-24737c151b40",
   "metadata": {},
   "outputs": [],
   "source": [
    "import torch\n",
    "import torch.nn as nn\n",
    "import torch.nn.functional as F\n",
    "import math"
   ]
  },
  {
   "cell_type": "code",
   "execution_count": 3,
   "id": "376c7d75-fdec-49d1-90f4-352762caebb1",
   "metadata": {},
   "outputs": [],
   "source": [
    "## Define positional encoding. Since Transformer model is not sequential we need a way to record position of the token."
   ]
  },
  {
   "cell_type": "code",
   "execution_count": 32,
   "id": "1b8fa713-1fad-40b1-901e-789039f3ccac",
   "metadata": {},
   "outputs": [],
   "source": [
    "class PositionalEncoding(nn.Module):\n",
    "    def __init__(self, d_model, max_len=5000):\n",
    "        super(PositionalEncoding, self).__init__()\n",
    "        # Initialize with shape (max_len, d_model) to match the position and model dimensions\n",
    "        self.encoding = torch.zeros(max_len, d_model, dtype=torch.float)\n",
    "        position = torch.arange(0, max_len, dtype=torch.float).unsqueeze(1)\n",
    "        div_term = torch.exp(torch.arange(0, d_model, 2).float() * -(math.log(10000.0) / d_model))\n",
    "        \n",
    "        # Apply sin to even indices and cos to odd indices of the encoding matrix\n",
    "        self.encoding[:, 0::2] = torch.sin(position * div_term)  # For even indices\n",
    "        self.encoding[:, 1::2] = torch.cos(position * div_term)  # For odd indices\n",
    "        \n",
    "        # Add a batch dimension at the start, making encoding of shape (1, max_len, d_model)\n",
    "        self.encoding = self.encoding.unsqueeze(0)\n",
    "    \n",
    "    def forward(self, x):\n",
    "        # Ensure encoding matches the input shape (batch_size, seq_len, d_model) and send to correct device\n",
    "        return x + self.encoding[:, :x.size(1), :].to(x.device)\n"
   ]
  },
  {
   "cell_type": "code",
   "execution_count": 33,
   "id": "0c917a46-1af6-44ef-94c5-c17530d8375d",
   "metadata": {},
   "outputs": [],
   "source": [
    "def scaled_dot_product_attention(query, key, value, mask=None):\n",
    "    scores = torch.matmul(query, key.transpose(-2, -1)) / math.sqrt(query.size(-1))\n",
    "    if mask is not None:\n",
    "        scores = scores.masked_fill(mask == 0, -1e9)\n",
    "    attention_weights = F.softmax(scores, dim=-1)\n",
    "    \n",
    "    return torch.matmul(attention_weights, value), attention_weights"
   ]
  },
  {
   "cell_type": "code",
   "execution_count": 52,
   "id": "c4aab10a-941d-4d66-b72d-2ad020973b0f",
   "metadata": {},
   "outputs": [],
   "source": [
    "class MultiHeadAttention(nn.Module):\n",
    "    def __init__(self, d_model, num_heads):\n",
    "        super(MultiHeadAttention, self).__init__()\n",
    "        assert d_model % num_heads == 0\n",
    "        self.d_k = d_model // num_heads\n",
    "        self.num_heads = num_heads\n",
    "\n",
    "        self.query_linear = nn.Linear(d_model, d_model)\n",
    "        self.key_linear = nn.Linear(d_model, d_model)\n",
    "        self.value_linear = nn.Linear(d_model, d_model)\n",
    "        self.out_linear = nn.Linear(d_model, d_model)\n",
    "\n",
    "    def forward(self, query, key, value, mask=None):\n",
    "        batch_size = query.size(0)\n",
    "\n",
    "        query = self.query_linear(query).view(batch_size, -1, self.num_heads, self.d_k).transpose(1,2)\n",
    "        key = self.key_linear(key).view(batch_size, -1, self.num_heads, self.d_k).transpose(1,2)\n",
    "        value = self.value_linear(value).view(batch_size, -1, self.num_heads, self.d_k).transpose(1,2)\n",
    "\n",
    "        attention_output, _ = scaled_dot_product_attention(query, key, value, mask)\n",
    "        attention_output = attention_output.transpose(1,2).contigous().view(batch_size, -1, self.num_heads * self.d_k)\n",
    "        return self.out_linear(attention_output)"
   ]
  },
  {
   "cell_type": "code",
   "execution_count": 53,
   "id": "9e050da6-dee6-4fb9-98a2-794dd42a1622",
   "metadata": {},
   "outputs": [],
   "source": [
    "class FeedForward(nn.Module):\n",
    "    def __init__(self, d_module, d_ff):\n",
    "        super(FeedForward, self).__init__()\n",
    "        self.linear1 = nn.Linear(d_model, d_ff)\n",
    "        self.lienar2 = nn.Linear(d_ff, d_model)\n",
    "\n",
    "    def forward(self, x):\n",
    "        return self.linear2(F.relu(self.linear1(x)))"
   ]
  },
  {
   "cell_type": "code",
   "execution_count": 54,
   "id": "38d40061-4001-43d4-a5f7-9b2e20a42ca6",
   "metadata": {},
   "outputs": [],
   "source": [
    "class EncoderLayer(nn.Module):\n",
    "    def __init__(self, d_model, num_heads, d_ff, dropout=0.1):\n",
    "        super(EncoderLayer, self).__init__()\n",
    "        self.attention = MultiHeadAttention(d_model, num_heads)\n",
    "        self.feed_forward = FeedForward(d_model, d_ff)\n",
    "        self.layer_norm1 = nn.LayerNorm(d_model)\n",
    "        self.layer_norm2 = nn.LayerNorm(d_model)\n",
    "        self.dropout = nn.Dropout(dropout)\n",
    "\n",
    "    def forward(self, x, mask=None):\n",
    "        attn_output = self.dropout(self.self_attention(x, x, x, mask))\n",
    "        x = self.layer_norm1(x + attn_output)\n",
    "        ff_output = self.dropout(self.feed_forward(x))\n",
    "        x = self.layer_norm2(x + ff_output)\n",
    "        return x"
   ]
  },
  {
   "cell_type": "code",
   "execution_count": 55,
   "id": "7dd30cd8-99f2-4e94-a65b-8455f7635e93",
   "metadata": {},
   "outputs": [],
   "source": [
    "class Encoder(nn.Module):\n",
    "    def __init__(self, vocab_size, d_model, num_layers, num_heads, d_ff, dropout=0.1):\n",
    "        super(Encoder, self).__init__()\n",
    "        self.embedding = nn.Embedding(vocab_size, d_model)\n",
    "        self.pos_encoding = PositionalEncoding(d_model)\n",
    "        self.layers = nn.ModuleList([EncoderLayer(d_model, num_heads, d_ff, dropout) for _ in range(num_layers)])\n",
    "\n",
    "    def forward(self, x, mask=None):\n",
    "        x = self.embedding(x)\n",
    "        x = self.pos_encoding(x)\n",
    "        for layer in self.layers:\n",
    "            x = layer(x, mask)\n",
    "        return x"
   ]
  },
  {
   "cell_type": "code",
   "execution_count": 56,
   "id": "8d3dd146-c726-453c-a098-4333ed7af3db",
   "metadata": {},
   "outputs": [],
   "source": [
    "class Decoder(nn.Module):\n",
    "    def __init__(self, vocab_size, d_model, num_layers, num_heads, d_ff, dropout=0.1):\n",
    "        super(DecoderLayer, self).__init__()\n",
    "        self.self_attention = MultiHeadAttention(d_model, num_heads)\n",
    "        self.enc_dec_attetntion = MultiHeadAttention(d_model, num_heads)\n",
    "        self.feed_forward = FeedForward(d_model, d_ff)\n",
    "        self.layer_norm1 = nn.LayerNorm(d_model)\n",
    "        self.layer_norm2 = nn.LayerNorm(d_model)\n",
    "        self.layer_norm3 = nn.LayerNorm(d_model)\n",
    "        self.dropout = nn.Dropout(dropout)\n",
    "\n",
    "    def forward(self, x, enc_output, tgt_mask = None, memory_mask=None):\n",
    "        x = self.layer_norm1(x + self.dropout(self.self_attention(x, x, x, tgt_mask)))\n",
    "        x = self.layer_norm2(x + self.dropout(self.enc_dec_attention(x, enc_output, enc_output, memory_mask)))\n",
    "        x = self.layer_norm3(x + self.dropout(self.feed_forward(x)))\n",
    "        return x\n",
    "        "
   ]
  },
  {
   "cell_type": "code",
   "execution_count": 57,
   "id": "561cccaa-bcb8-44b4-98e2-8c104bb79f5a",
   "metadata": {},
   "outputs": [],
   "source": [
    "class Decoder(nn.Module):\n",
    "    def __init__(self, vocab_size, d_model, num_layers, num_heads, d_ff, dropout=0.1):\n",
    "        super(Decoder, self).__init__()\n",
    "        self.embedding = nn.Embedding(vocab_size, d_model)\n",
    "        self.pos_encoding = PositionalEncoding(d_model)\n",
    "        self.layers = nn.ModuleList([DecoderLayer(d_model, num_heads, d_ff, dropout) for _ in range(num_layers)])\n",
    "        self.linear = nn.Linear(d_model, vocab_size)\n",
    "\n",
    "    def forward(self, x, enc_output, tgt_mask=None, memory_mask=None):\n",
    "        x= self.embedding(x)\n",
    "        x= self.pos_encoding(x)\n",
    "        for layer in self.layers:\n",
    "            x= layer(x, enc_output, tgt_mask, memory_mask)\n",
    "        return self.linear(x)"
   ]
  },
  {
   "cell_type": "code",
   "execution_count": 58,
   "id": "9ad47dfa-3a70-4b42-ab9d-03a243d2741e",
   "metadata": {},
   "outputs": [],
   "source": [
    "class Transformer(nn.Module):\n",
    "    def __init__(self, src_vocab_size, tgt_vocab_size, d_model, num_layers, num_heads, d_ff, dropout=0.1):\n",
    "        super(Transformer, self).__init__()\n",
    "        self.encoder = Encoder(src_vocab_size, d_model, num_layers, num_heads, d_ff, dropout)\n",
    "        self.decoder = Encoder(src_vocab_size, d_model, num_layers, num_heads, d_ff, dropout)\n",
    "\n",
    "    def forward(self, src, tgt, src_mask=None, tgt_mask=None, memory_mask=None):\n",
    "        enc_output = self.encoder(src, src_mask)\n",
    "        return self.decoder(tgt, enc_output, tgt_mask, memory_mask)"
   ]
  },
  {
   "cell_type": "code",
   "execution_count": 59,
   "id": "1723c0c2-7af3-488f-beaa-89005f82e951",
   "metadata": {},
   "outputs": [],
   "source": [
    "## Definign the Hyperparameters and the Optimizer"
   ]
  },
  {
   "cell_type": "code",
   "execution_count": 60,
   "id": "96fa771a-8dc4-46b4-833f-bdbb4265773f",
   "metadata": {},
   "outputs": [],
   "source": [
    "src_vocab_size = 10000       # Size of the source vocabulary\n",
    "tgt_vocab_size = 10000       # Size of the target vocabulary\n",
    "d_model = 512                # Embedding dimension\n",
    "num_layers = 6               # Number of encoder and decoder layers\n",
    "num_heads = 8                # Number of attention heads\n",
    "d_ff = 2048                  # Dimension of feed-forward network in each layer\n",
    "dropout = 0.1                # Dropout rate\n",
    "\n",
    "# Instantiate the Transformer model with these parameters\n",
    "transformer = Transformer(src_vocab_size, tgt_vocab_size, d_model, num_layers, num_heads, d_ff, dropout)\n",
    "\n",
    "optimizer = torch.optim.Adam(transformer.parameters(), lr=0.0001, betas=(0.9, 0.98), eps=1e-9)"
   ]
  },
  {
   "cell_type": "code",
   "execution_count": 62,
   "id": "c70f1eb9-6dc0-4afc-84a1-c97f12811a25",
   "metadata": {},
   "outputs": [],
   "source": [
    "padding_idx = 0\n",
    "loss_fn = nn.CrossEntropyLoss(ignore_index=padding_idx)"
   ]
  },
  {
   "cell_type": "code",
   "execution_count": 64,
   "id": "6d093a39-1ed3-4e13-b791-6c328c308078",
   "metadata": {},
   "outputs": [
    {
     "ename": "NameError",
     "evalue": "name 'train_loader' is not defined",
     "output_type": "error",
     "traceback": [
      "\u001b[0;31m---------------------------------------------------------------------------\u001b[0m",
      "\u001b[0;31mNameError\u001b[0m                                 Traceback (most recent call last)",
      "Cell \u001b[0;32mIn[64], line 5\u001b[0m\n\u001b[1;32m      2\u001b[0m num_epochs \u001b[38;5;241m=\u001b[39m \u001b[38;5;241m5\u001b[39m\n\u001b[1;32m      4\u001b[0m \u001b[38;5;28;01mfor\u001b[39;00m epoch \u001b[38;5;129;01min\u001b[39;00m \u001b[38;5;28mrange\u001b[39m(num_epochs):\n\u001b[0;32m----> 5\u001b[0m     \u001b[38;5;28;01mfor\u001b[39;00m batch \u001b[38;5;129;01min\u001b[39;00m \u001b[43mtrain_loader\u001b[49m:\n\u001b[1;32m      6\u001b[0m         inputs, targets \u001b[38;5;241m=\u001b[39m batch\n\u001b[1;32m      7\u001b[0m         \u001b[38;5;66;03m# Move to device (CPU, GPU)\u001b[39;00m\n",
      "\u001b[0;31mNameError\u001b[0m: name 'train_loader' is not defined"
     ]
    }
   ],
   "source": [
    "## define the number of epochs\n",
    "num_epochs = 5\n",
    "\n",
    "for epoch in range(num_epochs):\n",
    "    for batch in train_loader:\n",
    "        inputs, targets = batch\n",
    "        # Move to device (CPU, GPU)\n",
    "        inputs, targets = inputs.to(device), targets.to(device)\n",
    "\n",
    "        # Forwards pass\n",
    "        outputs = transformer(inputs)\n",
    "\n",
    "        # Calculate loss\n",
    "        loss = loss_fn(outputs.view(-1, vocab_size), targets.view(-1))\n",
    "\n",
    "        # Backward pass and optimization\n",
    "        loss.backward()\n",
    "        optimizer.step()\n",
    "        optimizer.zero_grad()\n",
    "\n",
    "        scheduler.step()"
   ]
  },
  {
   "cell_type": "code",
   "execution_count": null,
   "id": "45804be7-9d2e-42a1-a9bb-4656170b2ee2",
   "metadata": {},
   "outputs": [],
   "source": [
    "transformer.eval()  # Set model to evaluation mode\n",
    "with torch.no_grad():\n",
    "    for batch in val_loader:\n",
    "        inputs, targets = batch\n",
    "        inputs, targets = inputs.to(device), targets.to(device)\n",
    "        \n",
    "        outputs = transformer(inputs)\n",
    "        loss = loss_fn(outputs.view(-1, vocab_size), targets.view(-1))\n",
    "        # Calculate metrics if needed (e.g., BLEU for translation tasks)"
   ]
  }
 ],
 "metadata": {
  "kernelspec": {
   "display_name": "Python 3 (ipykernel)",
   "language": "python",
   "name": "python3"
  },
  "language_info": {
   "codemirror_mode": {
    "name": "ipython",
    "version": 3
   },
   "file_extension": ".py",
   "mimetype": "text/x-python",
   "name": "python",
   "nbconvert_exporter": "python",
   "pygments_lexer": "ipython3",
   "version": "3.9.6"
  }
 },
 "nbformat": 4,
 "nbformat_minor": 5
}
